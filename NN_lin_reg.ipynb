{
 "cells": [
  {
   "cell_type": "code",
   "execution_count": 1,
   "metadata": {},
   "outputs": [],
   "source": [
    "import numpy as np\n",
    "import matplotlib.pyplot as plt\n",
    "import pandas as pd\n",
    "%matplotlib inline\n",
    "np.random.seed(42)"
   ]
  },
  {
   "cell_type": "code",
   "execution_count": 2,
   "metadata": {},
   "outputs": [],
   "source": [
    "def sigmoid(z):\n",
    "    return 1/(1+math.exp(-z))\n",
    "\n",
    "def visualise(X,y):\n",
    "    plt.scatter(X,y,alpha=0.7, marker='.', )\n",
    "    plt.xlabel('features')\n",
    "    plt.ylabel('target')\n",
    "    "
   ]
  },
  {
   "cell_type": "code",
   "execution_count": 3,
   "metadata": {},
   "outputs": [],
   "source": [
    "def fwrd_prop(x,weight):\n",
    "    z_1 = np.dot(x,parameters[0])+parameters[1]\n",
    "    activation_1 = tanh(z_1)\n",
    "    z_2 = np.dot(activation_1, parameters[2])+parameters[3]\n",
    "    actication_2 = sigmoid(z_2)\n",
    "    forward = [z_1, actication_1, z_2, actication_2]\n",
    "    return forward"
   ]
  },
  {
   "cell_type": "code",
   "execution_count": 4,
   "metadata": {},
   "outputs": [],
   "source": [
    "sample_size = 200\n",
    "n_input_features = 1\n",
    "learning_rate = 0.05\n",
    "n_iterations = 100"
   ]
  },
  {
   "cell_type": "code",
   "execution_count": 5,
   "metadata": {},
   "outputs": [],
   "source": [
    "from sklearn.datasets import make_regression"
   ]
  },
  {
   "cell_type": "code",
   "execution_count": 6,
   "metadata": {},
   "outputs": [],
   "source": [
    "features, target = make_regression(n_samples=sample_size, \n",
    "                                   n_features= n_input_features, \n",
    "                                   n_informative = n_input_features, \n",
    "                                   noise=15)"
   ]
  },
  {
   "cell_type": "code",
   "execution_count": 7,
   "metadata": {},
   "outputs": [
    {
     "data": {
      "image/png": "[encoded data removed]",
      "text/plain": [
       "<Figure size 432x288 with 1 Axes>"
      ]
     },
     "metadata": {
      "needs_background": "light"
     },
     "output_type": "display_data"
    }
   ],
   "source": [
    "visualise(features, target)"
   ]
  },
  {
   "cell_type": "code",
   "execution_count": 8,
   "metadata": {},
   "outputs": [],
   "source": [
    "def reset_size(*list):\n",
    "    return tuple(lis.reshape((lis.shape[0], 1)) for lis in list)"
   ]
  },
  {
   "cell_type": "code",
   "execution_count": 9,
   "metadata": {},
   "outputs": [
    {
     "data": {
      "text/plain": [
       "(200, 1)"
      ]
     },
     "execution_count": 9,
     "metadata": {},
     "output_type": "execute_result"
    }
   ],
   "source": [
    "features, target = reset_size(features,target)\n",
    "target.shape"
   ]
  },
  {
   "cell_type": "code",
   "execution_count": 10,
   "metadata": {},
   "outputs": [],
   "source": [
    "from sklearn.model_selection import train_test_split"
   ]
  },
  {
   "cell_type": "code",
   "execution_count": 11,
   "metadata": {},
   "outputs": [],
   "source": [
    "X_train, X_test, y_train, y_test = train_test_split(features, target, test_size=0.30, random_state=42)"
   ]
  },
  {
   "cell_type": "code",
   "execution_count": 12,
   "metadata": {},
   "outputs": [
    {
     "name": "stdout",
     "output_type": "stream",
     "text": [
      "(140, 1) (140, 1)\n",
      "(60, 1) (60, 1)\n"
     ]
    }
   ],
   "source": [
    "print(X_train.shape, y_train.shape)\n",
    "print(X_test.shape, y_test.shape)"
   ]
  },
  {
   "cell_type": "code",
   "execution_count": 13,
   "metadata": {},
   "outputs": [],
   "source": [
    "def initial_parameters():\n",
    "    m = np.random.normal(scale =20)\n",
    "    b = np.random.normal(scale =20)\n",
    "    return m,b"
   ]
  },
  {
   "cell_type": "code",
   "execution_count": 14,
   "metadata": {},
   "outputs": [],
   "source": [
    "m,b = initial_parameters()"
   ]
  },
  {
   "cell_type": "code",
   "execution_count": 15,
   "metadata": {},
   "outputs": [],
   "source": [
    "def visualise(data, pred_line=None):\n",
    "    X,y= data['X'], data['y']\n",
    "    _ = plt.scatter(X,y,alpha = 0.7, marker = '.')\n",
    "    \n",
    "    if pred_line!=None:\n",
    "        x_line, y_line = pred_line['x_line'], pred_line['y_line']\n",
    "        _ = plt.plot(x_line,y_line, linewidth=3,markersize=12,\n",
    "                              color='red', alpha =0.9)\n",
    "        _=plt.title('Random line on data points')\n",
    "    else:\n",
    "        _ = plt.title('Plot of datapoints')"
   ]
  },
  {
   "cell_type": "code",
   "execution_count": 16,
   "metadata": {},
   "outputs": [],
   "source": [
    "def plot_pred_line(X,y,m,b):\n",
    "    x_line = np.linspace(np.min(X), np.max(X), 20)\n",
    "    y_line = m*x_line + b\n",
    "    dataset = {'X':X, \n",
    "              'y':y}\n",
    "    \n",
    "    pred_line = {'x_line': x_line, 'y_line':y_line}\n",
    "    visualise(dataset, pred_line)\n",
    "    return"
   ]
  },
  {
   "cell_type": "code",
   "execution_count": 17,
   "metadata": {},
   "outputs": [
    {
     "data": {
      "image/png": "[encoded data removed]",
      "text/plain": [
       "<Figure size 432x288 with 1 Axes>"
      ]
     },
     "metadata": {
      "needs_background": "light"
     },
     "output_type": "display_data"
    }
   ],
   "source": [
    "scatter = plot_pred_line(X_train,y_train,m,b)"
   ]
  },
  {
   "cell_type": "code",
   "execution_count": 18,
   "metadata": {},
   "outputs": [],
   "source": [
    "def forward_prop(X,m,b):\n",
    "    y_predict = m*X +b\n",
    "    return y_predict"
   ]
  },
  {
   "cell_type": "code",
   "execution_count": 19,
   "metadata": {},
   "outputs": [],
   "source": [
    "y_predict = forward_prop(X_train,m,b)"
   ]
  },
  {
   "cell_type": "code",
   "execution_count": 20,
   "metadata": {},
   "outputs": [],
   "source": [
    "\n",
    "def linreg_cost(y,y_pred):\n",
    "    loss= 1/2 *np.mean((y-y_pred)**2)\n",
    "    return loss"
   ]
  },
  {
   "cell_type": "code",
   "execution_count": 21,
   "metadata": {},
   "outputs": [],
   "source": [
    "def visualise(data, pred_line=None,losses=None):\n",
    "    plots=2 if losses!=None else 1\n",
    "    \n",
    "    fig = plt.figure(figsize=(8*plots, 6))\n",
    "    \n",
    "    X,y= data['X'], data['y']\n",
    "    \n",
    "    ax1 = plt.add_subplot(1,plots,1)\n",
    "    \n",
    "    ax1.scatter(X,y,alpha = 0.7, marker = '.')\n",
    "    \n",
    "    if pred_line!=None:\n",
    "        x_line, y_line = pred_line['x_line'], pred_line['y_line']\n",
    "        ax1.plot(x_line,y_line, linewidth=2,markersize=12,\n",
    "                              color='red', alpha =0.9)\n",
    "        ax1.set_title('Random line on data points')\n",
    "    else:\n",
    "        ax1.set_title('Plot of datapoints generated')\n",
    "    \n",
    "    ax1.set_xlabel('features')\n",
    "    ax1.set_ylabel('target')\n",
    "    \n",
    "    if losses!=None:\n",
    "        ax2 = fig.add_subplot(1,plots,2)\n",
    "        ax2.plot(np.arange(len(losses)),losses, marker='.')\n",
    "        ax2.set_xlabel('No of iterations')\n",
    "        ax2.set_ylabel('Loss')\n",
    "        ax2.set_title('Loss')\n",
    "    \n",
    "def plot_pred_line(X,y,m,b,losses=None):\n",
    "    x_line = np.linspace(np.min(X), np.max(X), 20)\n",
    "    y_line = m*x_line + b\n",
    "    dataset = {'X':X, \n",
    "              'y':y}\n",
    "    \n",
    "    pred_line = {'x_line': x_line, 'y_line':y_line}\n",
    "    visualise(dataset, pred_line, losses)\n",
    "    return"
   ]
  },
  {
   "cell_type": "code",
   "execution_count": 22,
   "metadata": {},
   "outputs": [],
   "source": [
    "losses = []\n",
    "loss = linreg_cost(y_train, y_predict)\n",
    "losses.append(loss)"
   ]
  },
  {
   "cell_type": "code",
   "execution_count": 23,
   "metadata": {},
   "outputs": [
    {
     "name": "stdout",
     "output_type": "stream",
     "text": [
      "2305.284524153062\n"
     ]
    }
   ],
   "source": [
    "print(loss)"
   ]
  },
  {
   "cell_type": "code",
   "execution_count": 24,
   "metadata": {},
   "outputs": [],
   "source": [
    "def derivative_terms(X_train,y_train,y_predict,m,b):\n",
    "    dm= np.mean((y_predict - y_train)*X_train)\n",
    "    db= np.mean(y_predict - y_train)\n",
    "    return dm, db"
   ]
  },
  {
   "cell_type": "code",
   "execution_count": 25,
   "metadata": {},
   "outputs": [],
   "source": [
    "def para_update(dm,db,m,b,learning_rate):\n",
    "    m-= learning_rate*dm\n",
    "    b-= learning_rate*db"
   ]
  },
  {
   "cell_type": "code",
   "execution_count": 26,
   "metadata": {},
   "outputs": [],
   "source": [
    "def grad_desc(X_train,y_train,y_predict,m,b,learning_rate):\n",
    "    dm,db = derivative_terms(X_train,y_train,y_predict, m,b)\n",
    "    m,b = para_update(dm,db,m,b,learning_rate)\n",
    "    return m,b"
   ]
  },
  {
   "cell_type": "code",
   "execution_count": 36,
   "metadata": {},
   "outputs": [
    {
     "ename": "TypeError",
     "evalue": "cannot unpack non-iterable NoneType object",
     "output_type": "error",
     "traceback": [
      "\u001b[1;31m---------------------------------------------------------------------------\u001b[0m",
      "\u001b[1;31mTypeError\u001b[0m                                 Traceback (most recent call last)",
      "\u001b[1;32m<ipython-input-36-568b5cbd12bb>\u001b[0m in \u001b[0;36m<module>\u001b[1;34m\u001b[0m\n\u001b[0;32m     24\u001b[0m     \u001b[0mlosses\u001b[0m\u001b[1;33m.\u001b[0m\u001b[0mappend\u001b[0m\u001b[1;33m(\u001b[0m\u001b[0mloss\u001b[0m\u001b[1;33m)\u001b[0m\u001b[1;33m\u001b[0m\u001b[1;33m\u001b[0m\u001b[0m\n\u001b[0;32m     25\u001b[0m \u001b[1;33m\u001b[0m\u001b[0m\n\u001b[1;32m---> 26\u001b[1;33m     \u001b[0mm\u001b[0m\u001b[1;33m,\u001b[0m \u001b[0mb\u001b[0m \u001b[1;33m=\u001b[0m \u001b[0mgrad_desc\u001b[0m\u001b[1;33m(\u001b[0m\u001b[0mX_train\u001b[0m\u001b[1;33m,\u001b[0m \u001b[0my_train\u001b[0m\u001b[1;33m,\u001b[0m \u001b[0my_predict\u001b[0m\u001b[1;33m,\u001b[0m \u001b[0mm\u001b[0m\u001b[1;33m,\u001b[0m \u001b[0mb\u001b[0m\u001b[1;33m,\u001b[0m \u001b[0mlearning_rate\u001b[0m\u001b[1;33m)\u001b[0m\u001b[1;33m\u001b[0m\u001b[1;33m\u001b[0m\u001b[0m\n\u001b[0m\u001b[0;32m     27\u001b[0m \u001b[1;33m\u001b[0m\u001b[0m\n\u001b[0;32m     28\u001b[0m     \u001b[1;31m#if(i%10==0):\u001b[0m\u001b[1;33m\u001b[0m\u001b[1;33m\u001b[0m\u001b[1;33m\u001b[0m\u001b[0m\n",
      "\u001b[1;32m<ipython-input-26-c0298f187eb4>\u001b[0m in \u001b[0;36mgrad_desc\u001b[1;34m(X_train, y_train, y_predict, m, b, learning_rate)\u001b[0m\n\u001b[0;32m      1\u001b[0m \u001b[1;32mdef\u001b[0m \u001b[0mgrad_desc\u001b[0m\u001b[1;33m(\u001b[0m\u001b[0mX_train\u001b[0m\u001b[1;33m,\u001b[0m\u001b[0my_train\u001b[0m\u001b[1;33m,\u001b[0m\u001b[0my_predict\u001b[0m\u001b[1;33m,\u001b[0m\u001b[0mm\u001b[0m\u001b[1;33m,\u001b[0m\u001b[0mb\u001b[0m\u001b[1;33m,\u001b[0m\u001b[0mlearning_rate\u001b[0m\u001b[1;33m)\u001b[0m\u001b[1;33m:\u001b[0m\u001b[1;33m\u001b[0m\u001b[1;33m\u001b[0m\u001b[0m\n\u001b[0;32m      2\u001b[0m     \u001b[0mdm\u001b[0m\u001b[1;33m,\u001b[0m\u001b[0mdb\u001b[0m \u001b[1;33m=\u001b[0m \u001b[0mderivative_terms\u001b[0m\u001b[1;33m(\u001b[0m\u001b[0mX_train\u001b[0m\u001b[1;33m,\u001b[0m\u001b[0my_train\u001b[0m\u001b[1;33m,\u001b[0m\u001b[0my_predict\u001b[0m\u001b[1;33m,\u001b[0m \u001b[0mm\u001b[0m\u001b[1;33m,\u001b[0m\u001b[0mb\u001b[0m\u001b[1;33m)\u001b[0m\u001b[1;33m\u001b[0m\u001b[1;33m\u001b[0m\u001b[0m\n\u001b[1;32m----> 3\u001b[1;33m     \u001b[0mm\u001b[0m\u001b[1;33m,\u001b[0m\u001b[0mb\u001b[0m \u001b[1;33m=\u001b[0m \u001b[0mpara_update\u001b[0m\u001b[1;33m(\u001b[0m\u001b[0mdm\u001b[0m\u001b[1;33m,\u001b[0m\u001b[0mdb\u001b[0m\u001b[1;33m,\u001b[0m\u001b[0mm\u001b[0m\u001b[1;33m,\u001b[0m\u001b[0mb\u001b[0m\u001b[1;33m,\u001b[0m\u001b[0mlearning_rate\u001b[0m\u001b[1;33m)\u001b[0m\u001b[1;33m\u001b[0m\u001b[1;33m\u001b[0m\u001b[0m\n\u001b[0m\u001b[0;32m      4\u001b[0m     \u001b[1;32mreturn\u001b[0m \u001b[0mm\u001b[0m\u001b[1;33m,\u001b[0m\u001b[0mb\u001b[0m\u001b[1;33m\u001b[0m\u001b[1;33m\u001b[0m\u001b[0m\n",
      "\u001b[1;31mTypeError\u001b[0m: cannot unpack non-iterable NoneType object"
     ]
    }
   ],
   "source": [
    "features, target = make_regression(n_samples=sample_size, \n",
    "                                   n_features= n_input_features, \n",
    "                                   n_informative = n_input_features, \n",
    "                                   noise=15)\n",
    "\n",
    "dataset = {'X': features, 'y': target}\n",
    "\n",
    "#visualise(dataset)\n",
    "\n",
    "m, b = initial_parameters()\n",
    "\n",
    "features, target = reset_size(features,target)\n",
    "\n",
    "X_train, X_test, y_train, y_test = train_test_split(features, \n",
    "                                                    target, \n",
    "                                                    test_size=0.3)\n",
    "\n",
    "losses = []\n",
    "\n",
    "for i in range(n_iterations):\n",
    "    y_predict = forward_prop(X_train, m, b)\n",
    "\n",
    "    loss = linreg_cost(y_train, y_predict)\n",
    "    losses.append(loss)\n",
    "\n",
    "    m, b = grad_desc(X_train, y_train, y_predict, m, b, learning_rate)\n",
    "\n",
    "    #if(i%10==0):\n",
    "        #print('Epoch: ', i)\n",
    "        #print('Loss = ', loss)\n",
    "      #  plot_pred_line(X_train, y_train, m, b, losses)\n",
    "\n",
    "#del losses[:]\n"
   ]
  },
  {
   "cell_type": "code",
   "execution_count": null,
   "metadata": {},
   "outputs": [],
   "source": []
  },
  {
   "cell_type": "code",
   "execution_count": null,
   "metadata": {},
   "outputs": [],
   "source": []
  }
 ],
 "metadata": {
  "kernelspec": {
   "display_name": "Python 3",
   "language": "python",
   "name": "python3"
  },
  "language_info": {
   "codemirror_mode": {
    "name": "ipython",
    "version": 3
   },
   "file_extension": ".py",
   "mimetype": "text/x-python",
   "name": "python",
   "nbconvert_exporter": "python",
   "pygments_lexer": "ipython3",
   "version": "3.7.1"
  }
 },
 "nbformat": 4,
 "nbformat_minor": 2
}
