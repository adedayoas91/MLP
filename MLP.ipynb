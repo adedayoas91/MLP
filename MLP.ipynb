{
 "cells": [
  {
   "cell_type": "code",
   "execution_count": 10,
   "metadata": {},
   "outputs": [],
   "source": [
    "import numpy as np\n",
    "import math"
   ]
  },
  {
   "cell_type": "code",
   "execution_count": 35,
   "metadata": {},
   "outputs": [],
   "source": [
    "def sigmoid(z):\n",
    "    return 1/(1+math.exp(-z))\n",
    "\n",
    "def ntwrk_architecture(features,target, hidden_layer):\n",
    "    n_input = features.shape[0]\n",
    "    n_hidden = hidden_layer\n",
    "    n_output = target.shape[0]\n",
    "    return (n_input, n_hidden, n_output)\n",
    "    \n",
    "def weight_bias(n_hidden, n_input, n_output):\n",
    "    W_1 = np.random.randn(hidden_size, input_size)\n",
    "    b_1 = np.zeros((hidden_size, 1))\n",
    "    W_2 = np.random.randn(output_size, hidden_size)\n",
    "    b_2 = np.zeros((output_size, 1))\n",
    "    parameters = [W_1,b_1,W_2,b_2]\n",
    "    return parameters\n",
    "\n",
    "def cost_func(m, target, activation):\n",
    "    return -1/m * np.sum((target*np.log(actication)) + (1-target)*np.log(1-activation))\n",
    "\n",
    "def tanh(z):\n",
    "    activation = (np.exp(z)-np.exp(-z))/(np.exp(z)+np.exp(-z))\n",
    "    return activation"
   ]
  },
  {
   "cell_type": "code",
   "execution_count": 36,
   "metadata": {},
   "outputs": [],
   "source": [
    "def fwrd_prop(x,weight):\n",
    "    z_1 = np.dot(x,parameters[0])+parameters[1]\n",
    "    activation_1 = tanh(z_1)\n",
    "    z_2 = np.dot(activation_1, parameters[2])+parameters[3]\n",
    "    actication_2 = sigmoid(z_2)\n",
    "    forward = [z_1, actication_1, z_2, actication_2]\n",
    "    return forward"
   ]
  },
  {
   "cell_type": "code",
   "execution_count": null,
   "metadata": {},
   "outputs": [],
   "source": []
  },
  {
   "cell_type": "code",
   "execution_count": null,
   "metadata": {},
   "outputs": [],
   "source": []
  }
 ],
 "metadata": {
  "kernelspec": {
   "display_name": "Python 3",
   "language": "python",
   "name": "python3"
  },
  "language_info": {
   "codemirror_mode": {
    "name": "ipython",
    "version": 3
   },
   "file_extension": ".py",
   "mimetype": "text/x-python",
   "name": "python",
   "nbconvert_exporter": "python",
   "pygments_lexer": "ipython3",
   "version": "3.7.1"
  }
 },
 "nbformat": 4,
 "nbformat_minor": 2
}
